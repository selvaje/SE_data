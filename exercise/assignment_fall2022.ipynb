{
 "cells": [
  {
   "cell_type": "markdown",
   "id": "00e58d2c",
   "metadata": {},
   "source": [
    "# Assignment\n",
    "\n",
    "\n",
    "This assignment is compulsory and need to be delivered before 17th of November, 2022 12pm, Nigeria time.\n",
    "\n",
    "Please use this jupyter file by adding cell-codes and cell-text with your solution. Save the file as *assignment_fall2022_name_surname.ipynb* and send as e-mail attachment to *g.amatulli@spatial-ecology.net* and *Erin.Stearns@gatesfoundation.org*.\n",
    "\n",
    "The exercises are based on lectures and materials that we covered during the lectures.\n"
   ]
  },
  {
   "cell_type": "markdown",
   "id": "d8bb4f63",
   "metadata": {},
   "source": [
    "Enter in your */media/sf_LVM_shared/my_SE_data/exercise/*, save there your *assignment_fall2022_name_surname.ipynb* and start to solve the exercises by adding new cell-codes and cell-text."
   ]
  },
  {
   "cell_type": "markdown",
   "id": "41065385",
   "metadata": {},
   "source": [
    "## 1st excercise\n",
    "20% grading value\n",
    "\n",
    "Uisng the *geodata/dem/SA_elevation_mn_GMTED2010_mn_msk.tif* ocean value mask out the \n",
    "*geodata/vegetation/SA_tree_mn_percentage_GFC2013.tif* in such a way that the output *geodata/vegetation/SA_tree_mn_percentage_GFC2013_msk.tif* has as ocean value -1. "
   ]
  },
  {
   "cell_type": "markdown",
   "id": "9431fcb8",
   "metadata": {},
   "source": [
    "## 2nd exercise\n",
    "20% grading value\n",
    "\n",
    "Using the .tif files in *geodata/landsat_ct/*, search for a gdal command that is able to create a vector-tile file having a tile-polygon for each tile tif. Run the commands and visualize the vector-tile file in qgis."
   ]
  },
  {
   "cell_type": "markdown",
   "id": "07f5258a",
   "metadata": {},
   "source": [
    "## 3rd excercise \n",
    "30% grading value\n",
    "\n",
    "\n",
    " * Open one file geodata/LST/LST_MOYDmax_month1.tif in qgis and create a vector file with 3 polygons, save it in LST folder. Any shape of the poligons are fine just be sure that is \"on top\" of the raster file. \n",
    " * Run a pktools command that is able to extract zonal statistic for one .tif file and save the results to a \" GPKG -raster,vector- (rw+vs): GeoPackage\" file format. \n",
    " * Build a for loop that is able to extract zonal statistic for all .tif files and save the GPKG. "
   ]
  },
  {
   "cell_type": "markdown",
   "id": "e99fb001",
   "metadata": {},
   "source": [
    "## 4th excercise\n",
    "30% grading value\n",
    "\n",
    "Using the *geodata/shp/Lepidocolaptes_lacrymiger_allpoints.csv* at each location extract pixel value from *./geodata/cloud/SA_intra.tif  ./geodata/cloud/SA_meanannual.tif ./geodata/dem/SA_elevation_mn_GMTED2010_mn.tif ./geodata/vegetation/SA_tree_mn_percentage_GFC2013.tif*. \n",
    "The final result should be a txt file composed as such:  \n",
    "\n",
    "Lat Long SA_intra SA_meanannual SA_elevation SA_tree  \n",
    "2.3 2.6 9 200 97  \n",
    ".......  "
   ]
  }
 ],
 "metadata": {
  "kernelspec": {
   "display_name": "Python 3 (ipykernel)",
   "language": "python",
   "name": "python3"
  },
  "language_info": {
   "codemirror_mode": {
    "name": "ipython",
    "version": 3
   },
   "file_extension": ".py",
   "mimetype": "text/x-python",
   "name": "python",
   "nbconvert_exporter": "python",
   "pygments_lexer": "ipython3",
   "version": "3.10.7"
  }
 },
 "nbformat": 4,
 "nbformat_minor": 5
}
