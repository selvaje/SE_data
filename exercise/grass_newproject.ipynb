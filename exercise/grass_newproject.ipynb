{
 "cells": [
  {
   "cell_type": "markdown",
   "id": "888cf96d-dbbb-458c-997c-459f7d2e6f1d",
   "metadata": {},
   "source": [
    "# Start a new GRASS project"
   ]
  },
  {
   "cell_type": "markdown",
   "id": "96741bbc-95d8-4f55-99ec-3286a0f0d654",
   "metadata": {},
   "source": [
    "In this session we are going to see how to start a new grass project using a well standarized dataset: a DEM.\n",
    "\n",
    "    jupyter lab /media/sf_LVM_shared/my_SE_data/exercise/grass_newproject.ipynb\n",
    "\n"
   ]
  },
  {
   "cell_type": "markdown",
   "id": "e9af94c5-fd6d-458b-bc97-36479db00a41",
   "metadata": {},
   "source": [
    "## Analize the dataset"
   ]
  },
  {
   "cell_type": "code",
   "execution_count": 1,
   "id": "11520c5f-04e8-4add-82a2-9bf833597fc2",
   "metadata": {},
   "outputs": [
    {
     "data": {
      "image/png": "[encoded data removed]",
      "text/plain": [
       "<Figure size 432x288 with 1 Axes>"
      ]
     },
     "metadata": {
      "needs_background": "light"
     },
     "output_type": "display_data"
    },
    {
     "data": {
      "text/plain": [
       "<AxesSubplot:>"
      ]
     },
     "execution_count": 1,
     "metadata": {},
     "output_type": "execute_result"
    }
   ],
   "source": [
    "import rasterio\n",
    "from rasterio.plot import show\n",
    "# digital elevation model\n",
    "dem = rasterio.open(\"/media/sf_LVM_shared/my_SE_data/exercise/geodata/dem/SA_elevation_mn_GMTED2010_mn_msk.tif\")\n",
    "show(dem)"
   ]
  },
  {
   "cell_type": "markdown",
   "id": "562e2769-f22d-43b2-8947-cfd9c811101f",
   "metadata": {},
   "source": [
    "We can see the metadata of the the DEM using gdalinfo. \n",
    "\n",
    "The tif metadata should have well defined values such as:\n",
    "* projection has to be well defined as proj4, EPSG,\n",
    "* the extent should set at degree level (e.g. 14.0') or with one digit after the degree (e.g. 14.1'),\n",
    "* the pixel resolution should be also well defined (e.g. 0.25', 0.008333333' not 0.008331234' or 0.05214534'),\n",
    "* in case of using more then one data source the raster layers shold have the same extent and the pixel aligned,\n"
   ]
  },
  {
   "cell_type": "code",
   "execution_count": 2,
   "id": "5f8a67c3-d56f-4294-8307-44215bef2efe",
   "metadata": {
    "scrolled": true
   },
   "outputs": [
    {
     "name": "stdout",
     "output_type": "stream",
     "text": [
      "Driver: GTiff/GeoTIFF\n",
      "Files: /media/sf_LVM_shared/my_SE_data/exercise/geodata/dem/SA_elevation_mn_GMTED2010_mn_msk.tif\n",
      "Size is 5880, 8400\n",
      "Coordinate System is:\n",
      "GEOGCRS[\"WGS 84\",\n",
      "    ENSEMBLE[\"World Geodetic System 1984 ensemble\",\n",
      "        MEMBER[\"World Geodetic System 1984 (Transit)\"],\n",
      "        MEMBER[\"World Geodetic System 1984 (G730)\"],\n",
      "        MEMBER[\"World Geodetic System 1984 (G873)\"],\n",
      "        MEMBER[\"World Geodetic System 1984 (G1150)\"],\n",
      "        MEMBER[\"World Geodetic System 1984 (G1674)\"],\n",
      "        MEMBER[\"World Geodetic System 1984 (G1762)\"],\n",
      "        MEMBER[\"World Geodetic System 1984 (G2139)\"],\n",
      "        ELLIPSOID[\"WGS 84\",6378137,298.257223563,\n",
      "            LENGTHUNIT[\"metre\",1]],\n",
      "        ENSEMBLEACCURACY[2.0]],\n",
      "    PRIMEM[\"Greenwich\",0,\n",
      "        ANGLEUNIT[\"degree\",0.0174532925199433]],\n",
      "    CS[ellipsoidal,2],\n",
      "        AXIS[\"geodetic latitude (Lat)\",north,\n",
      "            ORDER[1],\n",
      "            ANGLEUNIT[\"degree\",0.0174532925199433]],\n",
      "        AXIS[\"geodetic longitude (Lon)\",east,\n",
      "            ORDER[2],\n",
      "            ANGLEUNIT[\"degree\",0.0174532925199433]],\n",
      "    USAGE[\n",
      "        SCOPE[\"Horizontal component of 3D system.\"],\n",
      "        AREA[\"World.\"],\n",
      "        BBOX[-90,-180,90,180]],\n",
      "    ID[\"EPSG\",4326]]\n",
      "Data axis to CRS axis mapping: 2,1\n",
      "Origin = (-83.000000000000000,14.000000000000000)\n",
      "Pixel Size = (0.008333333333333,-0.008333333333333)\n",
      "Metadata:\n",
      "  AREA_OR_POINT=Area\n",
      "  TIFFTAG_DATETIME=2021:05:12 09:34:03\n",
      "  TIFFTAG_DOCUMENTNAME=geodata/dem/SA_elevation_mn_GMTED2010_mn_msk.tif\n",
      "  TIFFTAG_SOFTWARE=pktools 2.6.7.6 by Pieter Kempeneers\n",
      "Image Structure Metadata:\n",
      "  COMPRESSION=DEFLATE\n",
      "  INTERLEAVE=BAND\n",
      "Corner Coordinates:\n",
      "Upper Left  ( -83.0000000,  14.0000000) ( 83d 0' 0.00\"W, 14d 0' 0.00\"N)\n",
      "Lower Left  ( -83.0000000, -56.0000000) ( 83d 0' 0.00\"W, 56d 0' 0.00\"S)\n",
      "Upper Right ( -34.0000000,  14.0000000) ( 34d 0' 0.00\"W, 14d 0' 0.00\"N)\n",
      "Lower Right ( -34.0000000, -56.0000000) ( 34d 0' 0.00\"W, 56d 0' 0.00\"S)\n",
      "Center      ( -58.5000000, -21.0000000) ( 58d30' 0.00\"W, 21d 0' 0.00\"S)\n",
      "Band 1 Block=5880x1 Type=Int16, ColorInterp=Gray\n",
      "  NoData Value=-9999\n"
     ]
    }
   ],
   "source": [
    "! gdalinfo /media/sf_LVM_shared/my_SE_data/exercise/geodata/dem/SA_elevation_mn_GMTED2010_mn_msk.tif"
   ]
  },
  {
   "cell_type": "markdown",
   "id": "36c63c71-2749-4d1e-84ce-cabf5e39c9e0",
   "metadata": {},
   "source": [
    "## Create a LOCATION and MAPSET stored in a temporary folder\n",
    "\n",
    "Using the flag *--tmp-location* we can create a LOCATION on the flight that will automaticaly removed when GRASS will be closed. \n",
    "\n",
    "For this example we are goint to use:\n",
    "* [r.slope.aspect](https://grass.osgeo.org/grass83/manuals/r.slope.aspect.html) to calculate the slope\n",
    "* [r.out.gdal](https://grass.osgeo.org/grass83/manuals/r.out.gdal.html) to export the GRASS raster to tif. \n"
   ]
  },
  {
   "cell_type": "code",
   "execution_count": 8,
   "id": "74bf2892-5f9c-460a-88c7-243b793d0448",
   "metadata": {
    "scrolled": true
   },
   "outputs": [
    {
     "name": "stdout",
     "output_type": "stream",
     "text": [
      "----------------------------------------------\n",
      "raster files available in mapset <PERMANENT>:\n",
      "SA_elevation\n",
      "\n",
      " +----------------------------------------------------------------------------+\n",
      " | Map:      SA_elevation                   Date: Mon May 20 11:37:09 2024    |\n",
      " | Mapset:   PERMANENT                      Login of Creator: user            |\n",
      " | Location: tmploc                                                           |\n",
      " | DataBase: /tmp/grass8-user-168760                                          |\n",
      " | Title:                                                                     |\n",
      " | Timestamp: none                                                            |\n",
      " |----------------------------------------------------------------------------|\n",
      " |                                                                            |\n",
      " |   Type of Map:  GDAL-link            Number of Categories: 0               |\n",
      " |   Data Type:    CELL                 Semantic label: (none)                |\n",
      " |   Rows:         8400                                                       |\n",
      " |   Columns:      5880                                                       |\n",
      " |   Total Cells:  49392000                                                   |\n",
      " |        Projection: Latitude-Longitude                                      |\n",
      " |            N:        14N    S:        56S   Res: 0:00:30                   |\n",
      " |            E:        34W    W:        83W   Res: 0:00:30                   |\n",
      " |   Range of data:    min = -400  max = 6736                                 |\n",
      " |                                                                            |\n",
      " |   Data Source:                                                             |\n",
      " |    /media/sf_LVM_shared/my_SE_data/exercise/geodata/dem/SA_elevation_mn_GM |\n",
      " |                                                                            |\n",
      " |                                                                            |\n",
      " |   Data Description:                                                        |\n",
      " |    generated by r.external                                                 |\n",
      " |                                                                            |\n",
      " |   Comments:                                                                |\n",
      " |    r.external --overwrite --quiet -e input=\"/media/sf_LVM_shared/my_SE_\\   |\n",
      " |    data/exercise/geodata/dem/SA_elevation_mn_GMTED2010_mn_msk.tif\" outp\\   |\n",
      " |    ut=\"SA_elevation\"                                                       |\n",
      " |                                                                            |\n",
      " +----------------------------------------------------------------------------+\n",
      "\n",
      " +----------------------------------------------------------------------------+\n",
      " | Map:      slope                          Date: Mon May 20 11:37:12 2024    |\n",
      " | Mapset:   PERMANENT                      Login of Creator: user            |\n",
      " | Location: tmploc                                                           |\n",
      " | DataBase: /tmp/grass8-user-168760                                          |\n",
      " | Title:    slope in degrees                                                 |\n",
      " | Timestamp: none                                                            |\n",
      " |----------------------------------------------------------------------------|\n",
      " |                                                                            |\n",
      " |   Type of Map:  raster               Number of Categories: 90              |\n",
      " |   Data Type:    FCELL                Semantic label: (none)                |\n",
      " |   Rows:         8400                                                       |\n",
      " |   Columns:      5880                                                       |\n",
      " |   Total Cells:  49392000                                                   |\n",
      " |        Projection: Latitude-Longitude                                      |\n",
      " |            N:        14N    S:        56S   Res: 0:00:30                   |\n",
      " |            E:        34W    W:        83W   Res: 0:00:30                   |\n",
      " |   Range of data:    min = 0  max = 90                                      |\n",
      " |                                                                            |\n",
      " |   Data Source:                                                             |\n",
      " |    raster elevation file SA_elevation                                      |\n",
      " |                                                                            |\n",
      " |                                                                            |\n",
      " |   Data Description:                                                        |\n",
      " |    generated by r.slope.aspect                                             |\n",
      " |                                                                            |\n",
      " |   Comments:                                                                |\n",
      " |    slope map elev = SA_elevation                                           |\n",
      " |    zfactor = 1.00 format = degrees                                         |\n",
      " |    min_slope = 0.000000                                                    |\n",
      " |                                                                            |\n",
      " |    r.slope.aspect --overwrite elevation=\"SA_elevation\" slope=\"slope\" fo\\   |\n",
      " |    rmat=\"degrees\" precision=\"FCELL\" zscale=1.0 min_slope=0.0 nprocs=2 m\\   |\n",
      " |    emory=300                                                               |\n",
      " |                                                                            |\n",
      " +----------------------------------------------------------------------------+\n",
      "\n"
     ]
    },
    {
     "name": "stderr",
     "output_type": "stream",
     "text": [
      "Starting GRASS GIS...\n",
      "Creating new GRASS GIS location <tmploc>...\n",
      "Cleaning up temporary files...\n",
      "\n",
      "          __________  ___   __________    _______________\n",
      "         / ____/ __ \\/   | / ___/ ___/   / ____/  _/ ___/\n",
      "        / / __/ /_/ / /| | \\__ \\\\_  \\   / / __ / / \\__ \\\n",
      "       / /_/ / _, _/ ___ |___/ /__/ /  / /_/ // / ___/ /\n",
      "       \\____/_/ |_/_/  |_/____/____/   \\____/___//____/\n",
      "\n",
      "Welcome to GRASS GIS 8.2.1\n",
      "GRASS GIS homepage:                      https://grass.osgeo.org\n",
      "This version running through:            Bash Shell (/bin/bash)\n",
      "Help is available with the command:      g.manual -i\n",
      "See the licence terms with:              g.version -c\n",
      "See citation options with:               g.version -x\n",
      "Start the GUI with:                      g.gui wxpython\n",
      "When ready to quit enter:                exit\n",
      "\n",
      "   0   0   3   6   9  12  15  18  21  24  27  30  33  36  39  42  45  48  51  54  57  60  63  66  69  72  75  78  81  84  87  90  93  96  99 100\n",
      "Slope raster map <slope> complete\n",
      "/bin/bash: line 5: r.mapcalc.tiled: command not found\n",
      "WARNING: Precision loss: Raster map <slope> of type DCELL to be exported as\n",
      "         Int16. This can be avoided by using Float64.\n",
      "WARNING: Forcing raster export\n",
      "Checking GDAL data type and nodata value...\n",
      "   2   5   8  11  14  17  20  23  26  29  32  35  38  41  44  47  50  53  56  59  62  65  68  71  74  77  80  83  86  89  92  95  98 100\n",
      "Using GDAL data type <Int16>\n",
      "Exporting raster data to GTiff format...\n",
      "   2   5   8  11  14  17  20  23  26  29  32  35  38  41  44  47  50  53  56  59  62  65  68  71  74  77  80  83  86  89  92  95  98 100\n",
      "r.out.gdal complete. File\n",
      "</home/user/my_SE_data/exercise/grassdb/slope.tif> created.\n",
      "WARNING: Precision loss: Raster map <slope> of type DCELL to be exported as\n",
      "         Byte. This can be avoided by using Float64.\n",
      "WARNING: Forcing raster export\n",
      "Checking GDAL data type and nodata value...\n",
      "   2   5   8  11  14  17  20  23  26  29  32  35  38  41  44  47  50  53  56  59  62  65  68  71  74  77  80  83  86  89  92  95  98 100\n",
      "Using GDAL data type <Byte>\n",
      "WARNING: The user given nodata value 0 is present in rasterband <slope> and\n",
      "         would lead to data loss. Please specify a different nodata value\n",
      "         with the nodata parameter.\n",
      "WARNING: Forcing raster export.\n",
      "Exporting raster data to GTiff format...\n",
      "   2   5   8  11  14  17  20  23  26  29  32  35  38  41  44  47  50  53  56  59  62  65  68  71  74  77  80  83  86  89  92  95  98 100\n",
      "r.out.gdal complete. File\n",
      "</home/user/my_SE_data/exercise/grassdb/slope_msk.tif> created.\n",
      "Cleaning up temporary files...\n",
      "Done.\n",
      "\n",
      "Goodbye from GRASS GIS\n",
      "\n"
     ]
    }
   ],
   "source": [
    "%%bash \n",
    "\n",
    "grass  --text --tmp-location /media/sf_LVM_shared/my_SE_data/exercise/geodata/dem/SA_elevation_mn_GMTED2010_mn_msk.tif --exec <<'EOF'\n",
    "r.external -e input=/media/sf_LVM_shared/my_SE_data/exercise/geodata/dem/SA_elevation_mn_GMTED2010_mn_msk.tif output=SA_elevation --o --q\n",
    "g.list raster -p \n",
    "r.info  map=SA_elevation\n",
    "r.slope.aspect elevation=SA_elevation slope=slope\n",
    "r.info  map=slope\n",
    "# export the \"grass slope\" to a geotif.\n",
    "r.out.gdal --o -c -m -f createopt=\"COMPRESS=DEFLATE,ZLEVEL=9\" type=Int16 format=GTiff nodata=-9999  input=slope  output=/home/user/my_SE_data/exercise/grassdb/slope.tif\n",
    "EOF"
   ]
  },
  {
   "cell_type": "markdown",
   "id": "7b9974a8-f683-4b42-a651-d46586d033cd",
   "metadata": {},
   "source": [
    "GRASS rasters support three data types:\n",
    "\n",
    "    32bit signed integer (CELL) wich can be converted in GDAL using Byte/Int16/UInt16/UInt32/Int32\n",
    "    single-precision floating-point (FCELL) wich can be converted in GDAL using Float32\n",
    "    double-precision floating-point (DCELL) wich can be converted in GDAL using Float64\n",
    "\n",
    "More info at https://grass.osgeo.org/grass83/manuals/r.out.gdal.html"
   ]
  },
  {
   "cell_type": "code",
   "execution_count": 2,
   "id": "33584748-f1ff-4881-bbfa-887c4dd5b4dd",
   "metadata": {
    "scrolled": true
   },
   "outputs": [
    {
     "data": {
      "image/png": "[encoded data removed]",
      "text/plain": [
       "<Figure size 432x288 with 1 Axes>"
      ]
     },
     "metadata": {
      "needs_background": "light"
     },
     "output_type": "display_data"
    },
    {
     "data": {
      "text/plain": [
       "<AxesSubplot:>"
      ]
     },
     "execution_count": 2,
     "metadata": {},
     "output_type": "execute_result"
    }
   ],
   "source": [
    "import rasterio\n",
    "from rasterio.plot import show\n",
    "slope = rasterio.open(\"/home/user/my_SE_data/exercise/grassdb/slope.tif\")\n",
    "show(slope)"
   ]
  },
  {
   "cell_type": "code",
   "execution_count": 31,
   "id": "2a3c6be0-38da-43fd-b7cf-3a25bb60d388",
   "metadata": {},
   "outputs": [
    {
     "name": "stdout",
     "output_type": "stream",
     "text": [
      "Default software rendering mode (use -h if accelerated video card installed).\n",
      "Loading tools from /usr/bin/openev/tools/Tool_Export.py\n",
      "Loading tools from /usr/bin/openev/tools/Tool_ShapesGrid.py\n",
      "Loading tools from /usr/bin/openev/tools/Tool_DriverList.py\n"
     ]
    }
   ],
   "source": [
    "! /usr/bin/openev/bin/openev /home/user/my_SE_data/exercise/grassdb/slope.tif"
   ]
  },
  {
   "cell_type": "markdown",
   "id": "8d7c8d86-f432-45e6-95e1-aac4c637d11e",
   "metadata": {},
   "source": [
    "The temporary folder is removed automaticaly when closing grass. "
   ]
  },
  {
   "cell_type": "markdown",
   "id": "2f54e131-5012-445c-9f41-434fb712db8b",
   "metadata": {},
   "source": [
    "## Create a LOCATION and MAPSET stored in a folder that can be accessed later on.\n",
    "Using the flag *-e* we can create a LOCATION on the flight called \"south_america\" that can be access later on.  "
   ]
  },
  {
   "cell_type": "code",
   "execution_count": 3,
   "id": "fb65e27f-f29c-4808-8b5b-74b935fcfb97",
   "metadata": {},
   "outputs": [
    {
     "name": "stderr",
     "output_type": "stream",
     "text": [
      "Starting GRASS GIS...\n",
      "Creating new GRASS GIS location <south_america>...\n",
      "Cleaning up temporary files...\n",
      "Cleaning up temporary files...\n"
     ]
    }
   ],
   "source": [
    "%%bash \n",
    "rm -rf /home/user/my_SE_data/exercise/grassdb/south_america\n",
    "\n",
    "grass -c /media/sf_LVM_shared/my_SE_data/exercise/geodata/dem/SA_elevation_mn_GMTED2010_mn_msk.tif  -e /home/user/my_SE_data/exercise/grassdb/south_america"
   ]
  },
  {
   "cell_type": "markdown",
   "id": "fd6d5486-d411-4bd3-a5b9-3a822b899915",
   "metadata": {},
   "source": [
    "At this point the south_america LOCATION has been created with the defoult PERMANENT mapset"
   ]
  },
  {
   "cell_type": "code",
   "execution_count": 4,
   "id": "b8b11e3d-d2a3-4ba8-bfa6-b682b51bc559",
   "metadata": {},
   "outputs": [
    {
     "name": "stdout",
     "output_type": "stream",
     "text": [
      "PERMANENT\n"
     ]
    }
   ],
   "source": [
    "! ls /home/user/my_SE_data/exercise/grassdb/south_america/"
   ]
  },
  {
   "cell_type": "code",
   "execution_count": 5,
   "id": "0ebb8019-5837-4631-b026-4ff6581fbd23",
   "metadata": {
    "scrolled": true
   },
   "outputs": [
    {
     "name": "stdout",
     "output_type": "stream",
     "text": [
      "total 36\n",
      "-rw-rw-r-- 1 user user  328 May 20 10:32 DEFAULT_WIND\n",
      "-rw-rw-r-- 1 user user    1 May 20 10:32 MYNAME\n",
      "-rw-rw-r-- 1 user user   65 May 20 10:32 PROJ_INFO\n",
      "-rw-rw-r-- 1 user user   10 May 20 10:32 PROJ_SRID\n",
      "-rw-rw-r-- 1 user user   40 May 20 10:32 PROJ_UNITS\n",
      "-rw-rw-r-- 1 user user 1047 May 20 10:32 PROJ_WKT\n",
      "drwxrwxr-x 2 user user 4096 May 20 10:32 sqlite\n",
      "-rw-rw-r-- 1 user user   81 May 20 10:32 VAR\n",
      "-rw-rw-r-- 1 user user  328 May 20 10:32 WIND\n"
     ]
    }
   ],
   "source": [
    "! ls -l /home/user/my_SE_data/exercise/grassdb/south_america/PERMANENT\n"
   ]
  },
  {
   "cell_type": "markdown",
   "id": "d1fc642d-7d17-400c-8f08-45a8b01b38b7",
   "metadata": {},
   "source": [
    "we can proceed in using the south_america LOCATION & the PERMANENT MAPSET using this syntax: "
   ]
  },
  {
   "cell_type": "code",
   "execution_count": 6,
   "id": "56585522-8c48-412f-a363-8b3681e46c1c",
   "metadata": {
    "scrolled": true
   },
   "outputs": [
    {
     "name": "stdout",
     "output_type": "stream",
     "text": [
      "----------------------------------------------\n",
      "raster files available in mapset <PERMANENT>:\n",
      "SA_elevation\n",
      "\n",
      " +----------------------------------------------------------------------------+\n",
      " | Map:      SA_elevation                   Date: Mon May 20 10:33:27 2024    |\n",
      " | Mapset:   PERMANENT                      Login of Creator: user            |\n",
      " | Location: south_america                                                    |\n",
      " | DataBase: /home/user/my_SE_data/exercise/grassdb                           |\n",
      " | Title:                                                                     |\n",
      " | Timestamp: none                                                            |\n",
      " |----------------------------------------------------------------------------|\n",
      " |                                                                            |\n",
      " |   Type of Map:  GDAL-link            Number of Categories: 0               |\n",
      " |   Data Type:    CELL                 Semantic label: (none)                |\n",
      " |   Rows:         8400                                                       |\n",
      " |   Columns:      5880                                                       |\n",
      " |   Total Cells:  49392000                                                   |\n",
      " |        Projection: Latitude-Longitude                                      |\n",
      " |            N:        14N    S:        56S   Res: 0:00:30                   |\n",
      " |            E:        34W    W:        83W   Res: 0:00:30                   |\n",
      " |   Range of data:    min = -400  max = 6736                                 |\n",
      " |                                                                            |\n",
      " |   Data Source:                                                             |\n",
      " |    /media/sf_LVM_shared/my_SE_data/exercise/geodata/dem/SA_elevation_mn_GM |\n",
      " |                                                                            |\n",
      " |                                                                            |\n",
      " |   Data Description:                                                        |\n",
      " |    generated by r.external                                                 |\n",
      " |                                                                            |\n",
      " |   Comments:                                                                |\n",
      " |    r.external --overwrite --quiet input=\"/media/sf_LVM_shared/my_SE_dat\\   |\n",
      " |    a/exercise/geodata/dem/SA_elevation_mn_GMTED2010_mn_msk.tif\" output=\\   |\n",
      " |    \"SA_elevation\"                                                          |\n",
      " |                                                                            |\n",
      " +----------------------------------------------------------------------------+\n",
      "\n"
     ]
    },
    {
     "name": "stderr",
     "output_type": "stream",
     "text": [
      "Starting GRASS GIS...\n",
      "Cleaning up temporary files...\n",
      "\n",
      "          __________  ___   __________    _______________\n",
      "         / ____/ __ \\/   | / ___/ ___/   / ____/  _/ ___/\n",
      "        / / __/ /_/ / /| | \\__ \\\\_  \\   / / __ / / \\__ \\\n",
      "       / /_/ / _, _/ ___ |___/ /__/ /  / /_/ // / ___/ /\n",
      "       \\____/_/ |_/_/  |_/____/____/   \\____/___//____/\n",
      "\n",
      "Welcome to GRASS GIS 8.2.1\n",
      "GRASS GIS homepage:                      https://grass.osgeo.org\n",
      "This version running through:            Bash Shell (/bin/bash)\n",
      "Help is available with the command:      g.manual -i\n",
      "See the licence terms with:              g.version -c\n",
      "See citation options with:               g.version -x\n",
      "Start the GUI with:                      g.gui wxpython\n",
      "When ready to quit enter:                exit\n",
      "\n",
      "   0   3   6   9  12  15  18  21  24  27  30  33  36  39  42  45  48  51  54  57  60  63  66  69  72  75  78  81  84  87  90  93  96  99 100\n",
      "Aspect raster map <aspect> complete\n",
      "WARNING: Precision loss: Raster map <aspect> of type DCELL to be exported\n",
      "         as Int16. This can be avoided by using Float64.\n",
      "WARNING: Forcing raster export\n",
      "Checking GDAL data type and nodata value...\n",
      "   2   5   8  11  14  17  20  23  26  29  32  35  38  41  44  47  50  53  56  59  62  65  68  71  74  77  80  83  86  89  92  95  98 100\n",
      "Using GDAL data type <Int16>\n",
      "Exporting raster data to GTiff format...\n",
      "   2   5   8  11  14  17  20  23  26  29  32  35  38  41  44  47  50  53  56  59  62  65  68  71  74  77  80  83  86  89  92  95  98 100\n",
      "r.out.gdal complete. File\n",
      "</home/user/my_SE_data/exercise/grassdb/aspect.tif> created.\n",
      "Cleaning up temporary files...\n",
      "Done.\n",
      "\n",
      "Goodbye from GRASS GIS\n",
      "\n"
     ]
    }
   ],
   "source": [
    "%%bash \n",
    "grass  --text /home/user/my_SE_data/exercise/grassdb/south_america/PERMANENT --exec <<'EOF'\n",
    "r.external input=/media/sf_LVM_shared/my_SE_data/exercise/geodata/dem/SA_elevation_mn_GMTED2010_mn_msk.tif output=SA_elevation --o --q\n",
    "g.list raster -p \n",
    "r.info  map=SA_elevation\n",
    "r.slope.aspect elevation=SA_elevation aspect=aspect --o\n",
    "r.out.gdal --o -c -m -f createopt=\"COMPRESS=DEFLATE,ZLEVEL=9\" type=Int16 format=GTiff nodata=-9999  input=aspect  output=/home/user/my_SE_data/exercise/grassdb/aspect.tif\n",
    "EOF"
   ]
  },
  {
   "cell_type": "code",
   "execution_count": 37,
   "id": "60c17f06-f79e-43ee-9dc9-37173e6cfe03",
   "metadata": {},
   "outputs": [
    {
     "name": "stdout",
     "output_type": "stream",
     "text": [
      "Default software rendering mode (use -h if accelerated video card installed).\n",
      "Loading tools from /usr/bin/openev/tools/Tool_Export.py\n",
      "Loading tools from /usr/bin/openev/tools/Tool_ShapesGrid.py\n",
      "Loading tools from /usr/bin/openev/tools/Tool_DriverList.py\n"
     ]
    }
   ],
   "source": [
    "! /usr/bin/openev/bin/openev /home/user/my_SE_data/exercise/grassdb/aspect.tif"
   ]
  },
  {
   "cell_type": "markdown",
   "id": "4cab9156-58b5-4fce-88fa-278c3e09c0f9",
   "metadata": {},
   "source": [
    "or with line by line syntax"
   ]
  },
  {
   "cell_type": "code",
   "execution_count": 38,
   "id": "c5b62d66-43b4-481f-a0f2-d8b4680dfae6",
   "metadata": {},
   "outputs": [
    {
     "name": "stdout",
     "output_type": "stream",
     "text": [
      " +----------------------------------------------------------------------------+\n",
      " | Map:      SA_elevation_10c_max           Date: Thu May 16 18:31:24 2024    |\n",
      " | Mapset:   PERMANENT                      Login of Creator: user            |\n",
      " | Location: south_america                                                    |\n",
      " | DataBase: /home/user/my_SE_data/exercise/grassdb                           |\n",
      " | Title:    3x3 neighborhood: maximum of SA_elevation                        |\n",
      " | Timestamp: none                                                            |\n",
      " |----------------------------------------------------------------------------|\n",
      " |                                                                            |\n",
      " |   Type of Map:  raster               Number of Categories: 0               |\n",
      " |   Data Type:    CELL                 Semantic label: (none)                |\n",
      " |   Rows:         8400                                                       |\n",
      " |   Columns:      5880                                                       |\n",
      " |   Total Cells:  49392000                                                   |\n",
      " |        Projection: Latitude-Longitude                                      |\n",
      " |            N:        14N    S:        56S   Res: 0:00:30                   |\n",
      " |            E:        34W    W:        83W   Res: 0:00:30                   |\n",
      " |   Range of data:    min = -153  max = 6736                                 |\n",
      " |                                                                            |\n",
      " |   Data Description:                                                        |\n",
      " |    generated by r.neighbors                                                |\n",
      " |                                                                            |\n",
      " |   Comments:                                                                |\n",
      " |    r.neighbors --overwrite input=\"SA_elevation\" output=\"SA_elevation_10\\   |\n",
      " |    c_max\" size=3 method=\"maximum\" weighting_function=\"none\" nprocs=1 me\\   |\n",
      " |    mory=300                                                                |\n",
      " |                                                                            |\n",
      " +----------------------------------------------------------------------------+\n",
      "\n"
     ]
    },
    {
     "name": "stderr",
     "output_type": "stream",
     "text": [
      "Starting GRASS GIS...\n",
      "Cleaning up temporary files...\n",
      "Executing <r.neighbors input=SA_elevation output=SA_elevation_10c_max method=maximum --o> ...\n",
      "   0   3   6   9  12  15  18  21  24  27  30  33  36  39  42  45  48  51  54  57  60  63  66  69  72  75  78  81  84  87  90  93  96  99 100\n",
      "Execution of <r.neighbors input=SA_elevation output=SA_elevation_10c_max method=maximum --o> finished.\n",
      "Cleaning up temporary files...\n",
      "Starting GRASS GIS...\n",
      "Cleaning up temporary files...\n",
      "Executing <r.info map=SA_elevation_10c_max> ...\n",
      "Execution of <r.info map=SA_elevation_10c_max> finished.\n",
      "Cleaning up temporary files...\n"
     ]
    }
   ],
   "source": [
    "%%bash\n",
    "\n",
    "grass  --text /home/user/my_SE_data/exercise/grassdb/south_america/PERMANENT --exec r.neighbors input=SA_elevation output=SA_elevation_10c_max method=maximum --o\n",
    "grass  --text /home/user/my_SE_data/exercise/grassdb/south_america/PERMANENT --exec r.info  map=SA_elevation_10c_max"
   ]
  },
  {
   "cell_type": "markdown",
   "id": "25b730e8-17ee-4a2d-b026-5834c37cd71b",
   "metadata": {},
   "source": [
    "## GRASS add-ons\n",
    "Grass GIS has a modular architecture that allows users to extend its functionality through add-ons or modules. These add-ons cover a wide range of functionalities and are developed and contributed by the Grass GIS community. You can see the full list of add-ons at https://grass.osgeo.org/grass83/manuals/addons/index.html \n",
    "\n",
    "For this exercise we are going to use \n",
    "[r.mapcalc.tiled](https://grass.osgeo.org/grass83/manuals/addons/r.mapcalc.tiled.html) that integrate [r.mapcalc](https://grass.osgeo.org/grass83/manuals/r.mapcalc.html) in a multicore enviroment. "
   ]
  },
  {
   "cell_type": "markdown",
   "id": "9919a34b-2a21-4bd1-9140-99923daf6b0f",
   "metadata": {},
   "source": [
    "### Installation\n",
    "\n",
    "Open a bash terminal and run"
   ]
  },
  {
   "cell_type": "markdown",
   "id": "e6cb963c-f9e6-4b1a-90e7-75155a8f28ea",
   "metadata": {},
   "source": [
    "    cd /home/user\n",
    "    git clone https://github.com/OSGeo/grass-addons.git grass_addons "
   ]
  },
  {
   "cell_type": "markdown",
   "id": "01d935e8-6414-4f33-a15b-a48731fa4fe4",
   "metadata": {},
   "source": [
    "when the download has ben done you can proceed with the installation. \n",
    "\n",
    "For this exercise we are going to use:\n",
    "* [r.mapcalc.tiled](https://grass.osgeo.org/grass83/manuals/addons/r.mapcalc.tiled.html) add-on.\n",
    "* [r.mapcalc](https://grass.osgeo.org/grass83/manuals/r.mapcalc.html)\n",
    "\n",
    "Nontheless also consider to install and test the following add-on:\n",
    "\n",
    "* [r.learn.train](https://grass.osgeo.org/grass83/manuals/addons/r.learn.train.html)\n",
    "* [r.learn.ml](https://grass.osgeo.org/grass83/manuals/addons/r.learn.ml.html)\n",
    "* [r.learn.predict](https://grass.osgeo.org/grass83/manuals/addons/r.learn.predict.html)\n"
   ]
  },
  {
   "cell_type": "code",
   "execution_count": 22,
   "id": "4c0134e1-a73e-4016-8d3f-dad376dd919b",
   "metadata": {},
   "outputs": [
    {
     "name": "stdout",
     "output_type": "stream",
     "text": [
      " +----------------------------------------------------------------------------+\n",
      " | Map:      slope_msk                      Date: Mon May 20 16:44:05 2024    |\n",
      " | Mapset:   PERMANENT                      Login of Creator: user            |\n",
      " | Location: south_america                                                    |\n",
      " | DataBase: /home/user/my_SE_data/exercise/grassdb                           |\n",
      " | Title:                                                                     |\n",
      " | Timestamp: none                                                            |\n",
      " |----------------------------------------------------------------------------|\n",
      " |                                                                            |\n",
      " |   Type of Map:  raster               Number of Categories: 0               |\n",
      " |   Data Type:    CELL                 Semantic label: (none)                |\n",
      " |   Rows:         16800                                                      |\n",
      " |   Columns:      11760                                                      |\n",
      " |   Total Cells:  197568000                                                  |\n",
      " |        Projection: Latitude-Longitude                                      |\n",
      " |            N:        14N    S:        56S   Res: 0:00:15                   |\n",
      " |            E:        34W    W:        83W   Res: 0:00:15                   |\n",
      " |   Range of data:    min = 1  max = 10                                      |\n",
      " |                                                                            |\n",
      " |   Data Description:                                                        |\n",
      " |    generated by r.mapcalc                                                  |\n",
      " |                                                                            |\n",
      " |   Comments:                                                                |\n",
      " |    if(slope > 10, 10, 1)                                                   |\n",
      " |                                                                            |\n",
      " +----------------------------------------------------------------------------+\n",
      "\n"
     ]
    },
    {
     "name": "stderr",
     "output_type": "stream",
     "text": [
      "Starting GRASS GIS...\n",
      "Cleaning up temporary files...\n",
      "Executing <r.slope.aspect elevation=SA_elevation slope=slope nprocs=2 --o> ...\n",
      "   0   0   3   6   9  12  15  18  21  24  27  30  33  36  39  42  45  48  51  54  57  60  63  66  69  72  75  78  81  84  87  90  93  96  99 100\n",
      "Slope raster map <slope> complete\n",
      "Execution of <r.slope.aspect elevation=SA_elevation slope=slope nprocs=2 --o> finished.\n",
      "Cleaning up temporary files...\n",
      "Starting GRASS GIS...\n",
      "Cleaning up temporary files...\n",
      "Executing <g.region res=0.0041666666666> ...\n",
      "Execution of <g.region res=0.0041666666666> finished.\n",
      "Cleaning up temporary files...\n",
      "Starting GRASS GIS...\n",
      "Cleaning up temporary files...\n",
      "Executing <time r.mapcalc.tiled expression=slope_msk = if(slope > 10, 10, 1) width=5880 height=4200 overlap=0 nprocs=2 --o> ...\n",
      "11.73user 1.22system 0:09.50elapsed 136%CPU (0avgtext+0avgdata 72268maxresident)k\n",
      "11632inputs+16144outputs (48major+93774minor)pagefaults 0swaps\n",
      "Execution of <time r.mapcalc.tiled expression=slope_msk = if(slope > 10, 10, 1) width=5880 height=4200 overlap=0 nprocs=2 --o> finished.\n",
      "Cleaning up temporary files...\n",
      "Starting GRASS GIS...\n",
      "Cleaning up temporary files...\n",
      "Executing <time r.mapcalc expression=slope_msk = if(slope > 10, 10, 1) --o> ...\n",
      "5.34user 0.24system 0:05.52elapsed 101%CPU (0avgtext+0avgdata 38376maxresident)k\n",
      "0inputs+6792outputs (0major+2484minor)pagefaults 0swaps\n",
      "Execution of <time r.mapcalc expression=slope_msk = if(slope > 10, 10, 1) --o> finished.\n",
      "Cleaning up temporary files...\n",
      "Starting GRASS GIS...\n",
      "Cleaning up temporary files...\n",
      "Executing <r.info map=slope_msk> ...\n",
      "Execution of <r.info map=slope_msk> finished.\n",
      "Cleaning up temporary files...\n",
      "Starting GRASS GIS...\n",
      "Cleaning up temporary files...\n",
      "Executing <r.out.gdal --o -c -m -f createopt=COMPRESS=DEFLATE,ZLEVEL=9 type=Byte format=GTiff nodata=0 input=slope_msk output=/home/user/my_SE_data/exercise/grassdb/slope_msk.tif> ...\n",
      "Checking GDAL data type and nodata value...\n",
      "   2   5   8  11  14  17  20  23  26  29  32  35  38  41  44  47  50  53  56  59  62  65  68  71  74  77  80  83  86  89  92  95  98 100\n",
      "Using GDAL data type <Byte>\n",
      "Exporting raster data to GTiff format...\n",
      "   2   5   8  11  14  17  20  23  26  29  32  35  38  41  44  47  50  53  56  59  62  65  68  71  74  77  80  83  86  89  92  95  98 100\n",
      "r.out.gdal complete. File\n",
      "</home/user/my_SE_data/exercise/grassdb/slope_msk.tif> created.\n",
      "Execution of <r.out.gdal --o -c -m -f createopt=COMPRESS=DEFLATE,ZLEVEL=9 type=Byte format=GTiff nodata=0 input=slope_msk output=/home/user/my_SE_data/exercise/grassdb/slope_msk.tif> finished.\n",
      "Cleaning up temporary files...\n"
     ]
    }
   ],
   "source": [
    "%%bash\n",
    "grass  --text /home/user/my_SE_data/exercise/grassdb/south_america/PERMANENT --exec g.extension extension=r.mapcalc.tiled  url=/home/user/grass_addons/src/raster/r.mapcalc.tiled \n",
    "grass  --text /home/user/my_SE_data/exercise/grassdb/south_america/PERMANENT --exec r.slope.aspect elevation=SA_elevation slope=slope nprocs=2 --o\n",
    "grass  --text /home/user/my_SE_data/exercise/grassdb/south_america/PERMANENT --exec time r.mapcalc.tiled expression=\"slope_msk = if(slope > 10, 10, 1)\" width=5880 height=4200  overlap=0 nprocs=2 --o\n",
    "grass  --text /home/user/my_SE_data/exercise/grassdb/south_america/PERMANENT --exec time r.mapcalc       expression=\"slope_msk = if(slope > 10, 10, 1)\" --o\n",
    "grass  --text /home/user/my_SE_data/exercise/grassdb/south_america/PERMANENT --exec r.info  map=slope_msk\n",
    "# export the \"grass slope_msk\" to a geotif\n",
    "grass  --text /home/user/my_SE_data/exercise/grassdb/south_america/PERMANENT --exec r.out.gdal --o -c -m -f createopt=\"COMPRESS=DEFLATE,ZLEVEL=9\" type=Byte format=GTiff nodata=0 input=slope_msk output=/home/user/my_SE_data/exercise/grassdb/slope_msk.tif"
   ]
  },
  {
   "cell_type": "markdown",
   "id": "9f2c8cd6-a11b-4bc7-ae46-705c8874197a",
   "metadata": {},
   "source": [
    "As you can see not always the paralellization is beneficial"
   ]
  },
  {
   "cell_type": "code",
   "execution_count": 16,
   "id": "9b5f5f55-b152-430c-91d7-ab73e3b802ae",
   "metadata": {},
   "outputs": [
    {
     "name": "stdout",
     "output_type": "stream",
     "text": [
      "Default software rendering mode (use -h if accelerated video card installed).\n",
      "Loading tools from /usr/bin/openev/tools/Tool_Export.py\n",
      "Loading tools from /usr/bin/openev/tools/Tool_ShapesGrid.py\n",
      "Loading tools from /usr/bin/openev/tools/Tool_DriverList.py\n"
     ]
    }
   ],
   "source": [
    "! /usr/bin/openev/bin/openev /home/user/my_SE_data/exercise/grassdb/slope_msk.tif"
   ]
  },
  {
   "cell_type": "markdown",
   "id": "671af36a-c2ab-451b-9af0-c5879031cda4",
   "metadata": {},
   "source": [
    "Not all the GRASS module have been parallelized some example of parallization can be found here: \n",
    "https://htmlpreview.github.io/?https://github.com/petrasovaa/FUTURES-CONUS-talk/blob/main/foss4g2022.html#/"
   ]
  }
 ],
 "metadata": {
  "kernelspec": {
   "display_name": "Python 3 (ipykernel)",
   "language": "python",
   "name": "python3"
  },
  "language_info": {
   "codemirror_mode": {
    "name": "ipython",
    "version": 3
   },
   "file_extension": ".py",
   "mimetype": "text/x-python",
   "name": "python",
   "nbconvert_exporter": "python",
   "pygments_lexer": "ipython3",
   "version": "3.10.12"
  }
 },
 "nbformat": 4,
 "nbformat_minor": 5
}
