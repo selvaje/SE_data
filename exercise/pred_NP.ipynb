{
 "cells": [
  {
   "cell_type": "markdown",
   "metadata": {
    "nbpresent": {
     "id": "a20290f5-2a26-4622-9e8b-ce94cc1dcb1a"
    },
    "slideshow": {
     "slide_type": "slide"
    }
   },
   "source": [
    "# Estimating nitrogen and phosphorus concentrations in streams and rivers  \n",
    "\n",
    "\n",
    "<center>Longzhu Shen</center> \n",
    "<p>\n",
    "<center><i>Spatial Ecology</i></center>\n",
    "<p>\n",
    "<center>May 2021</center>\n",
    "    \n",
    "Exercise base on the: \n",
    "\n",
    "**[Estimating nitrogen and phosphorus concentrations in streams and rivers, within a machine learning framework](https://www.nature.com/articles/s41597-020-0478-7)**\n",
    "\n",
    "Longzhu Q. Shen, Giuseppe Amatulli, Tushar Sethi, Peter Raymond & Sami Domisch  \n",
    "Scientific Data volume 7, Article number: 161 (2020) Cite this article "
   ]
  },
  {
   "cell_type": "markdown",
   "metadata": {
    "nbpresent": {
     "id": "494d6527-1db0-4bca-a3a9-ea7d28eed532"
    },
    "slideshow": {
     "slide_type": "slide"
    }
   },
   "source": [
    "**BackGround**\n",
    "- Geoenviornmental variables \n",
    "- Ground observationd : Nitrogen in US streams  "
   ]
  },
  {
   "cell_type": "markdown",
   "metadata": {},
   "source": [
    "Lectures: [Machine Learning Optimization](http://spatial-ecology.net/docs/source/lectures/lect_20210506_ML_OPT.pdf)"
   ]
  },
  {
   "cell_type": "markdown",
   "metadata": {
    "nbpresent": {
     "id": "e675a434-eb22-4d12-a159-d6464ec9d916"
    },
    "slideshow": {
     "slide_type": "slide"
    }
   },
   "source": [
    "**Code**"
   ]
  },
  {
   "cell_type": "code",
   "execution_count": 2,
   "metadata": {
    "nbpresent": {
     "id": "8f67df50-3050-47d2-a5d9-4329a61325fa"
    },
    "slideshow": {
     "slide_type": "fragment"
    }
   },
   "outputs": [],
   "source": [
    "import pandas as pd\n",
    "import numpy as np\n",
    "from sklearn.ensemble import RandomForestRegressor as RFReg\n",
    "from sklearn.model_selection import train_test_split,GridSearchCV\n",
    "from sklearn.pipeline import Pipeline\n",
    "from scipy.stats.stats import pearsonr\n",
    "import matplotlib.pyplot as plt\n",
    "plt.rcParams[\"figure.figsize\"] = (10,6.5)"
   ]
  },
  {
   "cell_type": "markdown",
   "metadata": {
    "nbpresent": {
     "id": "cf3cb8c6-45f0-48de-b171-598ebf92904f"
    },
    "slideshow": {
     "slide_type": "slide"
    }
   },
   "source": [
    "read in data"
   ]
  },
  {
   "cell_type": "code",
   "execution_count": 3,
   "metadata": {
    "slideshow": {
     "slide_type": "fragment"
    }
   },
   "outputs": [
    {
     "data": {
      "text/html": [
       "<div>\n",
       "<style scoped>\n",
       "    .dataframe tbody tr th:only-of-type {\n",
       "        vertical-align: middle;\n",
       "    }\n",
       "\n",
       "    .dataframe tbody tr th {\n",
       "        vertical-align: top;\n",
       "    }\n",
       "\n",
       "    .dataframe thead th {\n",
       "        text-align: right;\n",
       "    }\n",
       "</style>\n",
       "<table border=\"1\" class=\"dataframe\">\n",
       "  <thead>\n",
       "    <tr style=\"text-align: right;\">\n",
       "      <th></th>\n",
       "      <th>sLong</th>\n",
       "      <th>sLat</th>\n",
       "      <th>mean</th>\n",
       "      <th>lu_avg_01</th>\n",
       "      <th>lu_avg_02</th>\n",
       "      <th>lu_avg_03</th>\n",
       "      <th>lu_avg_04</th>\n",
       "      <th>lu_avg_05</th>\n",
       "      <th>lu_avg_06</th>\n",
       "      <th>lu_avg_07</th>\n",
       "      <th>...</th>\n",
       "      <th>hydro_avg_13</th>\n",
       "      <th>hydro_avg_14</th>\n",
       "      <th>hydro_avg_15</th>\n",
       "      <th>hydro_avg_16</th>\n",
       "      <th>hydro_avg_17</th>\n",
       "      <th>hydro_avg_18</th>\n",
       "      <th>hydro_avg_19</th>\n",
       "      <th>dem_avg</th>\n",
       "      <th>slope_ave</th>\n",
       "      <th>lentic_lotic01</th>\n",
       "    </tr>\n",
       "  </thead>\n",
       "  <tbody>\n",
       "    <tr>\n",
       "      <th>0</th>\n",
       "      <td>-123.187500</td>\n",
       "      <td>46.179165</td>\n",
       "      <td>0.566667</td>\n",
       "      <td>28</td>\n",
       "      <td>0</td>\n",
       "      <td>15</td>\n",
       "      <td>45</td>\n",
       "      <td>23</td>\n",
       "      <td>22</td>\n",
       "      <td>12</td>\n",
       "      <td>...</td>\n",
       "      <td>107329616</td>\n",
       "      <td>38819396</td>\n",
       "      <td>29</td>\n",
       "      <td>310689856</td>\n",
       "      <td>136347292</td>\n",
       "      <td>310689856</td>\n",
       "      <td>136347292</td>\n",
       "      <td>1470</td>\n",
       "      <td>492</td>\n",
       "      <td>8</td>\n",
       "    </tr>\n",
       "    <tr>\n",
       "      <th>1</th>\n",
       "      <td>-123.129166</td>\n",
       "      <td>45.437500</td>\n",
       "      <td>1.166667</td>\n",
       "      <td>24</td>\n",
       "      <td>0</td>\n",
       "      <td>6</td>\n",
       "      <td>25</td>\n",
       "      <td>0</td>\n",
       "      <td>4</td>\n",
       "      <td>41</td>\n",
       "      <td>...</td>\n",
       "      <td>23143</td>\n",
       "      <td>1529</td>\n",
       "      <td>68</td>\n",
       "      <td>64073</td>\n",
       "      <td>7800</td>\n",
       "      <td>64073</td>\n",
       "      <td>7800</td>\n",
       "      <td>142</td>\n",
       "      <td>291</td>\n",
       "      <td>2</td>\n",
       "    </tr>\n",
       "    <tr>\n",
       "      <th>2</th>\n",
       "      <td>-123.120834</td>\n",
       "      <td>45.470833</td>\n",
       "      <td>0.628778</td>\n",
       "      <td>46</td>\n",
       "      <td>0</td>\n",
       "      <td>3</td>\n",
       "      <td>33</td>\n",
       "      <td>0</td>\n",
       "      <td>1</td>\n",
       "      <td>15</td>\n",
       "      <td>...</td>\n",
       "      <td>167329</td>\n",
       "      <td>11217</td>\n",
       "      <td>68</td>\n",
       "      <td>470310</td>\n",
       "      <td>55128</td>\n",
       "      <td>470310</td>\n",
       "      <td>55128</td>\n",
       "      <td>315</td>\n",
       "      <td>353</td>\n",
       "      <td>3</td>\n",
       "    </tr>\n",
       "    <tr>\n",
       "      <th>3</th>\n",
       "      <td>-123.120834</td>\n",
       "      <td>45.504166</td>\n",
       "      <td>0.336667</td>\n",
       "      <td>55</td>\n",
       "      <td>0</td>\n",
       "      <td>2</td>\n",
       "      <td>32</td>\n",
       "      <td>0</td>\n",
       "      <td>1</td>\n",
       "      <td>9</td>\n",
       "      <td>...</td>\n",
       "      <td>117497</td>\n",
       "      <td>8462</td>\n",
       "      <td>67</td>\n",
       "      <td>333116</td>\n",
       "      <td>40989</td>\n",
       "      <td>333116</td>\n",
       "      <td>40989</td>\n",
       "      <td>315</td>\n",
       "      <td>441</td>\n",
       "      <td>2</td>\n",
       "    </tr>\n",
       "    <tr>\n",
       "      <th>4</th>\n",
       "      <td>-123.054169</td>\n",
       "      <td>45.504166</td>\n",
       "      <td>0.595833</td>\n",
       "      <td>46</td>\n",
       "      <td>0</td>\n",
       "      <td>3</td>\n",
       "      <td>31</td>\n",
       "      <td>0</td>\n",
       "      <td>2</td>\n",
       "      <td>17</td>\n",
       "      <td>...</td>\n",
       "      <td>307267</td>\n",
       "      <td>21228</td>\n",
       "      <td>68</td>\n",
       "      <td>865826</td>\n",
       "      <td>104122</td>\n",
       "      <td>865826</td>\n",
       "      <td>104122</td>\n",
       "      <td>290</td>\n",
       "      <td>363</td>\n",
       "      <td>3</td>\n",
       "    </tr>\n",
       "    <tr>\n",
       "      <th>5</th>\n",
       "      <td>-123.012497</td>\n",
       "      <td>45.520832</td>\n",
       "      <td>1.573333</td>\n",
       "      <td>30</td>\n",
       "      <td>0</td>\n",
       "      <td>4</td>\n",
       "      <td>32</td>\n",
       "      <td>0</td>\n",
       "      <td>3</td>\n",
       "      <td>29</td>\n",
       "      <td>...</td>\n",
       "      <td>233499</td>\n",
       "      <td>18441</td>\n",
       "      <td>65</td>\n",
       "      <td>662045</td>\n",
       "      <td>92675</td>\n",
       "      <td>662045</td>\n",
       "      <td>92675</td>\n",
       "      <td>208</td>\n",
       "      <td>248</td>\n",
       "      <td>3</td>\n",
       "    </tr>\n",
       "  </tbody>\n",
       "</table>\n",
       "<p>6 rows × 50 columns</p>\n",
       "</div>"
      ],
      "text/plain": [
       "        sLong       sLat      mean  lu_avg_01  lu_avg_02  lu_avg_03  \\\n",
       "0 -123.187500  46.179165  0.566667         28          0         15   \n",
       "1 -123.129166  45.437500  1.166667         24          0          6   \n",
       "2 -123.120834  45.470833  0.628778         46          0          3   \n",
       "3 -123.120834  45.504166  0.336667         55          0          2   \n",
       "4 -123.054169  45.504166  0.595833         46          0          3   \n",
       "5 -123.012497  45.520832  1.573333         30          0          4   \n",
       "\n",
       "   lu_avg_04  lu_avg_05  lu_avg_06  lu_avg_07  ...  hydro_avg_13  \\\n",
       "0         45         23         22         12  ...     107329616   \n",
       "1         25          0          4         41  ...         23143   \n",
       "2         33          0          1         15  ...        167329   \n",
       "3         32          0          1          9  ...        117497   \n",
       "4         31          0          2         17  ...        307267   \n",
       "5         32          0          3         29  ...        233499   \n",
       "\n",
       "   hydro_avg_14  hydro_avg_15  hydro_avg_16  hydro_avg_17  hydro_avg_18  \\\n",
       "0      38819396            29     310689856     136347292     310689856   \n",
       "1          1529            68         64073          7800         64073   \n",
       "2         11217            68        470310         55128        470310   \n",
       "3          8462            67        333116         40989        333116   \n",
       "4         21228            68        865826        104122        865826   \n",
       "5         18441            65        662045         92675        662045   \n",
       "\n",
       "   hydro_avg_19  dem_avg  slope_ave  lentic_lotic01  \n",
       "0     136347292     1470        492               8  \n",
       "1          7800      142        291               2  \n",
       "2         55128      315        353               3  \n",
       "3         40989      315        441               2  \n",
       "4        104122      290        363               3  \n",
       "5         92675      208        248               3  \n",
       "\n",
       "[6 rows x 50 columns]"
      ]
     },
     "execution_count": 3,
     "metadata": {},
     "output_type": "execute_result"
    }
   ],
   "source": [
    "dsIn = pd.read_csv(\"./txt/TN_Data_Sample.csv\")\n",
    "dsIn.head(6)"
   ]
  },
  {
   "cell_type": "code",
   "execution_count": 3,
   "metadata": {
    "slideshow": {
     "slide_type": "fragment"
    }
   },
   "outputs": [
    {
     "data": {
      "text/plain": [
       "array(['sLong', 'sLat', 'mean', 'lu_avg_01', 'lu_avg_02', 'lu_avg_03',\n",
       "       'lu_avg_04', 'lu_avg_05', 'lu_avg_06', 'lu_avg_07', 'lu_avg_08',\n",
       "       'lu_avg_09', 'lu_avg_10', 'lu_avg_11', 'lu_avg_12', 'prec', 'tmin',\n",
       "       'tmax', 'soil_avg_01', 'soil_avg_02', 'soil_avg_03', 'soil_avg_04',\n",
       "       'soil_avg_05', 'soil_avg_06', 'soil_avg_07', 'soil_avg_08',\n",
       "       'soil_avg_09', 'soil_avg_10', 'hydro_avg_01', 'hydro_avg_02',\n",
       "       'hydro_avg_03', 'hydro_avg_04', 'hydro_avg_05', 'hydro_avg_06',\n",
       "       'hydro_avg_07', 'hydro_avg_08', 'hydro_avg_09', 'hydro_avg_10',\n",
       "       'hydro_avg_11', 'hydro_avg_12', 'hydro_avg_13', 'hydro_avg_14',\n",
       "       'hydro_avg_15', 'hydro_avg_16', 'hydro_avg_17', 'hydro_avg_18',\n",
       "       'hydro_avg_19', 'dem_avg', 'slope_ave', 'lentic_lotic01'],\n",
       "      dtype=object)"
      ]
     },
     "execution_count": 3,
     "metadata": {},
     "output_type": "execute_result"
    }
   ],
   "source": [
    "dsIn.columns.values"
   ]
  },
  {
   "cell_type": "code",
   "execution_count": 4,
   "metadata": {},
   "outputs": [],
   "source": [
    "feats = ['mean','tmax']"
   ]
  },
  {
   "cell_type": "code",
   "execution_count": 14,
   "metadata": {},
   "outputs": [
    {
     "data": {
      "image/png": "[encoded data removed]",
      "text/plain": [
       "<Figure size 720x468 with 1 Axes>"
      ]
     },
     "metadata": {
      "needs_background": "light"
     },
     "output_type": "display_data"
    }
   ],
   "source": [
    "bins = np.linspace(min(dsIn['mean']),max(dsIn['mean']),100)\n",
    "plt.hist((dsIn['mean']),bins,alpha=0.8);"
   ]
  },
  {
   "cell_type": "code",
   "execution_count": 3,
   "metadata": {},
   "outputs": [],
   "source": [
    "dsIn['log']=  np.log10(dsIn['mean'])"
   ]
  },
  {
   "cell_type": "code",
   "execution_count": 16,
   "metadata": {},
   "outputs": [
    {
     "data": {
      "image/png": "[encoded data removed]",
      "text/plain": [
       "<Figure size 720x468 with 1 Axes>"
      ]
     },
     "metadata": {
      "needs_background": "light"
     },
     "output_type": "display_data"
    }
   ],
   "source": [
    "bins = np.linspace(min(dsIn['log']),max(dsIn['log']),100)\n",
    "plt.hist((dsIn['log']),bins,alpha=0.8);"
   ]
  },
  {
   "cell_type": "code",
   "execution_count": 4,
   "metadata": {},
   "outputs": [],
   "source": [
    "X = dsIn.iloc[:,3:50].values\n",
    "Y = dsIn.iloc[:,50:51].values\n",
    "feat = dsIn.iloc[:,3:50].columns.values"
   ]
  },
  {
   "cell_type": "code",
   "execution_count": 4,
   "metadata": {},
   "outputs": [
    {
     "data": {
      "text/plain": [
       "array(['lu_avg_01', 'lu_avg_02', 'lu_avg_03', 'lu_avg_04', 'lu_avg_05',\n",
       "       'lu_avg_06', 'lu_avg_07', 'lu_avg_08', 'lu_avg_09', 'lu_avg_10',\n",
       "       'lu_avg_11', 'lu_avg_12', 'prec', 'tmin', 'tmax', 'soil_avg_01',\n",
       "       'soil_avg_02', 'soil_avg_03', 'soil_avg_04', 'soil_avg_05',\n",
       "       'soil_avg_06', 'soil_avg_07', 'soil_avg_08', 'soil_avg_09',\n",
       "       'soil_avg_10', 'hydro_avg_01', 'hydro_avg_02', 'hydro_avg_03',\n",
       "       'hydro_avg_04', 'hydro_avg_05', 'hydro_avg_06', 'hydro_avg_07',\n",
       "       'hydro_avg_08', 'hydro_avg_09', 'hydro_avg_10', 'hydro_avg_11',\n",
       "       'hydro_avg_12', 'hydro_avg_13', 'hydro_avg_14', 'hydro_avg_15',\n",
       "       'hydro_avg_16', 'hydro_avg_17', 'hydro_avg_18', 'hydro_avg_19',\n",
       "       'dem_avg', 'slope_ave', 'lentic_lotic01'], dtype=object)"
      ]
     },
     "execution_count": 4,
     "metadata": {},
     "output_type": "execute_result"
    }
   ],
   "source": [
    "feat"
   ]
  },
  {
   "cell_type": "code",
   "execution_count": 7,
   "metadata": {},
   "outputs": [
    {
     "data": {
      "text/plain": [
       "(1010, 47)"
      ]
     },
     "execution_count": 7,
     "metadata": {},
     "output_type": "execute_result"
    }
   ],
   "source": [
    "X.shape"
   ]
  },
  {
   "cell_type": "code",
   "execution_count": 8,
   "metadata": {},
   "outputs": [
    {
     "data": {
      "text/plain": [
       "(1010, 1)"
      ]
     },
     "execution_count": 8,
     "metadata": {},
     "output_type": "execute_result"
    }
   ],
   "source": [
    "Y.shape"
   ]
  },
  {
   "cell_type": "raw",
   "metadata": {},
   "source": [
    "model building"
   ]
  },
  {
   "cell_type": "code",
   "execution_count": 9,
   "metadata": {},
   "outputs": [],
   "source": [
    "X_train, X_test, Y_train, Y_test = train_test_split(X, Y, test_size=0.5, random_state=24)\n",
    "y_train = np.ravel(Y_train)\n",
    "y_test = np.ravel(Y_test)"
   ]
  },
  {
   "cell_type": "code",
   "execution_count": 21,
   "metadata": {},
   "outputs": [
    {
     "name": "stdout",
     "output_type": "stream",
     "text": [
      "Fitting 3 folds for each of 81 candidates, totalling 243 fits\n"
     ]
    },
    {
     "data": {
      "text/plain": [
       "GridSearchCV(cv=3, estimator=Pipeline(steps=[('rf', RandomForestRegressor())]),\n",
       "             n_jobs=-1,\n",
       "             param_grid={'rf__max_depth': (50, 100, 200),\n",
       "                         'rf__max_features': ('log2', 'sqrt', 0.33),\n",
       "                         'rf__max_samples': (0.5, 0.6, 0.7),\n",
       "                         'rf__n_estimators': (500, 1000, 2000)},\n",
       "             scoring='r2', verbose=1)"
      ]
     },
     "execution_count": 21,
     "metadata": {},
     "output_type": "execute_result"
    }
   ],
   "source": [
    "pipeline = Pipeline([('rf',RFReg())])\n",
    "\n",
    "parameters = {\n",
    "        'rf__max_features':(\"log2\",\"sqrt\",0.33),\n",
    "        'rf__max_samples':(0.5,0.6,0.7),\n",
    "        'rf__n_estimators':(500,1000,2000),\n",
    "        'rf__max_depth':(50,100,200)}\n",
    "\n",
    "grid_search = GridSearchCV(pipeline,parameters,n_jobs=-1,cv=3,scoring='r2',verbose=1)\n",
    "grid_search.fit(X_train,y_train)\n"
   ]
  },
  {
   "cell_type": "code",
   "execution_count": 22,
   "metadata": {},
   "outputs": [
    {
     "data": {
      "text/plain": [
       "0.6719812711835207"
      ]
     },
     "execution_count": 22,
     "metadata": {},
     "output_type": "execute_result"
    }
   ],
   "source": [
    "grid_search.best_score_"
   ]
  },
  {
   "cell_type": "code",
   "execution_count": 23,
   "metadata": {},
   "outputs": [
    {
     "name": "stdout",
     "output_type": "stream",
     "text": [
      "Best Training score: 0.672\n",
      "Optimal parameters:\n",
      "\trf__max_depth: 200\n",
      "\trf__max_features: 0.33\n",
      "\trf__max_samples: 0.7\n",
      "\trf__n_estimators: 500\n"
     ]
    }
   ],
   "source": [
    "print ('Best Training score: %0.3f' % grid_search.best_score_)\n",
    "print ('Optimal parameters:')\n",
    "best_par = grid_search.best_estimator_.get_params()\n",
    "for par_name in sorted(parameters.keys()):\n",
    "    print ('\\t%s: %r' % (par_name, best_par[par_name]))\n"
   ]
  },
  {
   "cell_type": "code",
   "execution_count": 10,
   "metadata": {},
   "outputs": [
    {
     "data": {
      "text/plain": [
       "[0.9697515742517621, 0.8061496236451665]"
      ]
     },
     "execution_count": 10,
     "metadata": {},
     "output_type": "execute_result"
    }
   ],
   "source": [
    "rfReg = RFReg(n_estimators=500,max_features=0.33,max_depth=200,max_samples=0.7,n_jobs=-1,random_state=24)\n",
    "rfReg.fit(X_train, y_train);\n",
    "dic_pred = {}\n",
    "dic_pred['train'] = rfReg.predict(X_train)\n",
    "dic_pred['test'] = rfReg.predict(X_test)\n",
    "[pearsonr(dic_pred['train'],y_train)[0],pearsonr(dic_pred['test'],y_test)[0]]"
   ]
  },
  {
   "cell_type": "code",
   "execution_count": 28,
   "metadata": {},
   "outputs": [
    {
     "data": {
      "text/plain": [
       "[<matplotlib.lines.Line2D at 0x153076b2fdf0>]"
      ]
     },
     "execution_count": 28,
     "metadata": {},
     "output_type": "execute_result"
    },
    {
     "data": {
      "image/png": "[encoded data removed]",
      "text/plain": [
       "<Figure size 720x468 with 1 Axes>"
      ]
     },
     "metadata": {
      "needs_background": "light"
     },
     "output_type": "display_data"
    }
   ],
   "source": [
    "plt.scatter(y_train,dic_pred['train'])\n",
    "plt.xlabel('orig')\n",
    "plt.ylabel('pred')\n",
    "ident = [-1, 1.2]\n",
    "plt.plot(ident,ident,'r--')"
   ]
  },
  {
   "cell_type": "code",
   "execution_count": 29,
   "metadata": {},
   "outputs": [
    {
     "data": {
      "text/plain": [
       "[<matplotlib.lines.Line2D at 0x153075404250>]"
      ]
     },
     "execution_count": 29,
     "metadata": {},
     "output_type": "execute_result"
    },
    {
     "data": {
      "image/png": "[encoded data removed]",
      "text/plain": [
       "<Figure size 720x468 with 1 Axes>"
      ]
     },
     "metadata": {
      "needs_background": "light"
     },
     "output_type": "display_data"
    }
   ],
   "source": [
    "plt.scatter(y_test,dic_pred['test'])\n",
    "plt.xlabel('orig')\n",
    "plt.ylabel('pred')\n",
    "ident = [-1, 1.2]\n",
    "plt.plot(ident,ident,'r--')"
   ]
  },
  {
   "cell_type": "code",
   "execution_count": 11,
   "metadata": {},
   "outputs": [],
   "source": [
    "impt = [rfReg.feature_importances_, np.std([tree.feature_importances_ for tree in rfReg.estimators_],axis=1)] \n",
    "ind = np.argsort(impt[0])"
   ]
  },
  {
   "cell_type": "code",
   "execution_count": 12,
   "metadata": {},
   "outputs": [
    {
     "data": {
      "text/plain": [
       "array([ 9,  7, 10,  1, 23,  4, 46, 12, 37, 40, 36, 42, 41, 38, 43, 20, 24,\n",
       "       27, 33, 35, 39,  8, 29, 44, 30, 22, 31, 26, 32,  0, 28,  2, 45, 18,\n",
       "       13, 14, 11, 25, 34,  5,  3,  6, 17, 21, 19, 15, 16])"
      ]
     },
     "execution_count": 12,
     "metadata": {},
     "output_type": "execute_result"
    }
   ],
   "source": [
    "ind"
   ]
  },
  {
   "cell_type": "code",
   "execution_count": 15,
   "metadata": {},
   "outputs": [
    {
     "data": {
      "image/png": "[encoded data removed]",
      "text/plain": [
       "<Figure size 432x864 with 1 Axes>"
      ]
     },
     "metadata": {
      "needs_background": "light"
     },
     "output_type": "display_data"
    }
   ],
   "source": [
    "plt.rcParams[\"figure.figsize\"] = (6,12)\n",
    "plt.barh(range(len(feat)),impt[0][ind],color=\"b\", xerr=impt[1][ind], align=\"center\")\n",
    "plt.yticks(range(len(feat)),feat[ind]);"
   ]
  }
 ],
 "metadata": {
  "anaconda-cloud": {},
  "celltoolbar": "Slideshow",
  "kernelspec": {
   "display_name": "Python 3",
   "language": "python",
   "name": "python3"
  },
  "language_info": {
   "codemirror_mode": {
    "name": "ipython",
    "version": 3
   },
   "file_extension": ".py",
   "mimetype": "text/x-python",
   "name": "python",
   "nbconvert_exporter": "python",
   "pygments_lexer": "ipython3",
   "version": "3.8.5"
  }
 },
 "nbformat": 4,
 "nbformat_minor": 4
}
