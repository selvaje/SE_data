{
 "cells": [
  {
   "cell_type": "markdown",
   "metadata": {},
   "source": [
    "# Hands-on GRASS: First steps\n",
    "The object of this page is to start using Grass and to get familiar with some general GIS operations. We are going to use a command line approach. This is to enable carrying out stand-alone processes in the future, and understand step by step each function and the options per function which are available. Let's start using grass.\n",
    "\n",
    "## Grass structure\n",
    "Every Grass project has a predefined data structure:\n",
    "\n",
    "- GISDBASE - Grass data are stored in a directory referred to as a DATABASE “GISDBASE”. This directory has to be created with mkdir or a file manager, before starting to work with GRASS. Within this DATABASE, the projects are organized by project areas stored in subdirectories called LOCATIONs.\n",
    "- LOCATION - A Location is defined by its coordinate system, map projection and geographical boundaries. The subdirectories and files defining a LOCATION are created automatically when GRASS is started for the first time with a new LOCATION.\n",
    "- MAPSET - Locations can have many MAPSETs. Each MAPSET is a LOCATION's subdirectory. A new MAPSET can be added at GRASS startup."
   ]
  },
  {
   "cell_type": "code",
   "execution_count": 4,
   "metadata": {
    "scrolled": true
   },
   "outputs": [
    {
     "name": "stdout",
     "output_type": "stream",
     "text": [
      "----------------------------------------------\n",
      "raster files available in mapset <PERMANENT>:\n",
      "fnfpc\n",
      "\n",
      "raster files available in mapset <PCEM>:\n",
      "a10             eu1             pcem_euforgen   pcem_realized\n",
      "ac5             i20             pcem_potential\n",
      "\n",
      "raster files available in mapset <PCEMstat>:\n",
      "fnfpc_crop                pcem_dist_infor           pcem_pot_no_pot_alps\n",
      "pcem_dist_alp             pcem_pot_alps             pcem_suit_infor\n",
      "\n",
      "\u001b[K\u001b[7m(END)\u001b[m\u001b[K"
     ]
    }
   ],
   "source": [
    "! g.list rast -p "
   ]
  },
  {
   "cell_type": "code",
   "execution_count": 5,
   "metadata": {},
   "outputs": [
    {
     "name": "stdout",
     "output_type": "stream",
     "text": [
      "LOCATION_NAME=europe\r\n",
      "GISDBASE=/home/selv/SE_data/exercise/grassdb\r\n",
      "MAPSET=PERMANENT\r\n",
      "GUI=text\r\n",
      "PID=242384\r\n"
     ]
    }
   ],
   "source": [
    "! g.gisenv"
   ]
  },
  {
   "cell_type": "code",
   "execution_count": null,
   "metadata": {},
   "outputs": [],
   "source": [
    "%html <img src=\"map.png\">"
   ]
  },
  {
   "cell_type": "code",
   "execution_count": null,
   "metadata": {},
   "outputs": [],
   "source": []
  }
 ],
 "metadata": {
  "kernelspec": {
   "display_name": "Python 3",
   "language": "python",
   "name": "python3"
  },
  "language_info": {
   "codemirror_mode": {
    "name": "ipython",
    "version": 3
   },
   "file_extension": ".py",
   "mimetype": "text/x-python",
   "name": "python",
   "nbconvert_exporter": "python",
   "pygments_lexer": "ipython3",
   "version": "3.8.5"
  }
 },
 "nbformat": 4,
 "nbformat_minor": 4
}
